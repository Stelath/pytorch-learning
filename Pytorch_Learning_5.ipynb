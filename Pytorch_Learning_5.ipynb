{
  "nbformat": 4,
  "nbformat_minor": 0,
  "metadata": {
    "colab": {
      "name": "Pytorch Learning 5.ipynb",
      "provenance": [],
      "authorship_tag": "ABX9TyM21auz2upYz+UYWvL5q6Xg",
      "include_colab_link": true
    },
    "kernelspec": {
      "name": "python3",
      "display_name": "Python 3"
    },
    "language_info": {
      "name": "python"
    },
    "widgets": {
      "application/vnd.jupyter.widget-state+json": {
        "3be389784df740a8b56d24d9b5066931": {
          "model_module": "@jupyter-widgets/controls",
          "model_name": "HBoxModel",
          "model_module_version": "1.5.0",
          "state": {
            "_view_name": "HBoxView",
            "_dom_classes": [],
            "_model_name": "HBoxModel",
            "_view_module": "@jupyter-widgets/controls",
            "_model_module_version": "1.5.0",
            "_view_count": null,
            "_view_module_version": "1.5.0",
            "box_style": "",
            "layout": "IPY_MODEL_66f725b07ab44b59bda36ba9fea5edd7",
            "_model_module": "@jupyter-widgets/controls",
            "children": [
              "IPY_MODEL_7fee178d8d164a008b019ed3da1903cb",
              "IPY_MODEL_9a1e6c9843d545a6861e8e617032d73f",
              "IPY_MODEL_54ad13b629174177bcc9dc7ea4484312"
            ]
          }
        },
        "66f725b07ab44b59bda36ba9fea5edd7": {
          "model_module": "@jupyter-widgets/base",
          "model_name": "LayoutModel",
          "model_module_version": "1.2.0",
          "state": {
            "_view_name": "LayoutView",
            "grid_template_rows": null,
            "right": null,
            "justify_content": null,
            "_view_module": "@jupyter-widgets/base",
            "overflow": null,
            "_model_module_version": "1.2.0",
            "_view_count": null,
            "flex_flow": null,
            "width": null,
            "min_width": null,
            "border": null,
            "align_items": null,
            "bottom": null,
            "_model_module": "@jupyter-widgets/base",
            "top": null,
            "grid_column": null,
            "overflow_y": null,
            "overflow_x": null,
            "grid_auto_flow": null,
            "grid_area": null,
            "grid_template_columns": null,
            "flex": null,
            "_model_name": "LayoutModel",
            "justify_items": null,
            "grid_row": null,
            "max_height": null,
            "align_content": null,
            "visibility": null,
            "align_self": null,
            "height": null,
            "min_height": null,
            "padding": null,
            "grid_auto_rows": null,
            "grid_gap": null,
            "max_width": null,
            "order": null,
            "_view_module_version": "1.2.0",
            "grid_template_areas": null,
            "object_position": null,
            "object_fit": null,
            "grid_auto_columns": null,
            "margin": null,
            "display": null,
            "left": null
          }
        },
        "7fee178d8d164a008b019ed3da1903cb": {
          "model_module": "@jupyter-widgets/controls",
          "model_name": "HTMLModel",
          "model_module_version": "1.5.0",
          "state": {
            "_view_name": "HTMLView",
            "style": "IPY_MODEL_ce4f4334ca4a4bf59adacbced4b37d7f",
            "_dom_classes": [],
            "description": "",
            "_model_name": "HTMLModel",
            "placeholder": "​",
            "_view_module": "@jupyter-widgets/controls",
            "_model_module_version": "1.5.0",
            "value": "100%",
            "_view_count": null,
            "_view_module_version": "1.5.0",
            "description_tooltip": null,
            "_model_module": "@jupyter-widgets/controls",
            "layout": "IPY_MODEL_8dea9d51e16a4ae0a9e6bc953942d446"
          }
        },
        "9a1e6c9843d545a6861e8e617032d73f": {
          "model_module": "@jupyter-widgets/controls",
          "model_name": "FloatProgressModel",
          "model_module_version": "1.5.0",
          "state": {
            "_view_name": "ProgressView",
            "style": "IPY_MODEL_85086a2189624983a0d6ea20a384e430",
            "_dom_classes": [],
            "description": "",
            "_model_name": "FloatProgressModel",
            "bar_style": "success",
            "max": 225,
            "_view_module": "@jupyter-widgets/controls",
            "_model_module_version": "1.5.0",
            "value": 225,
            "_view_count": null,
            "_view_module_version": "1.5.0",
            "orientation": "horizontal",
            "min": 0,
            "description_tooltip": null,
            "_model_module": "@jupyter-widgets/controls",
            "layout": "IPY_MODEL_617adcf94c084123917b3d12b9bf0999"
          }
        },
        "54ad13b629174177bcc9dc7ea4484312": {
          "model_module": "@jupyter-widgets/controls",
          "model_name": "HTMLModel",
          "model_module_version": "1.5.0",
          "state": {
            "_view_name": "HTMLView",
            "style": "IPY_MODEL_3a24bf5bc3894910b9825b512d796735",
            "_dom_classes": [],
            "description": "",
            "_model_name": "HTMLModel",
            "placeholder": "​",
            "_view_module": "@jupyter-widgets/controls",
            "_model_module_version": "1.5.0",
            "value": " 225/225 [01:35&lt;00:00,  2.74it/s]",
            "_view_count": null,
            "_view_module_version": "1.5.0",
            "description_tooltip": null,
            "_model_module": "@jupyter-widgets/controls",
            "layout": "IPY_MODEL_08973f76f53c492a82c410de60f15065"
          }
        },
        "ce4f4334ca4a4bf59adacbced4b37d7f": {
          "model_module": "@jupyter-widgets/controls",
          "model_name": "DescriptionStyleModel",
          "model_module_version": "1.5.0",
          "state": {
            "_view_name": "StyleView",
            "_model_name": "DescriptionStyleModel",
            "description_width": "",
            "_view_module": "@jupyter-widgets/base",
            "_model_module_version": "1.5.0",
            "_view_count": null,
            "_view_module_version": "1.2.0",
            "_model_module": "@jupyter-widgets/controls"
          }
        },
        "8dea9d51e16a4ae0a9e6bc953942d446": {
          "model_module": "@jupyter-widgets/base",
          "model_name": "LayoutModel",
          "model_module_version": "1.2.0",
          "state": {
            "_view_name": "LayoutView",
            "grid_template_rows": null,
            "right": null,
            "justify_content": null,
            "_view_module": "@jupyter-widgets/base",
            "overflow": null,
            "_model_module_version": "1.2.0",
            "_view_count": null,
            "flex_flow": null,
            "width": null,
            "min_width": null,
            "border": null,
            "align_items": null,
            "bottom": null,
            "_model_module": "@jupyter-widgets/base",
            "top": null,
            "grid_column": null,
            "overflow_y": null,
            "overflow_x": null,
            "grid_auto_flow": null,
            "grid_area": null,
            "grid_template_columns": null,
            "flex": null,
            "_model_name": "LayoutModel",
            "justify_items": null,
            "grid_row": null,
            "max_height": null,
            "align_content": null,
            "visibility": null,
            "align_self": null,
            "height": null,
            "min_height": null,
            "padding": null,
            "grid_auto_rows": null,
            "grid_gap": null,
            "max_width": null,
            "order": null,
            "_view_module_version": "1.2.0",
            "grid_template_areas": null,
            "object_position": null,
            "object_fit": null,
            "grid_auto_columns": null,
            "margin": null,
            "display": null,
            "left": null
          }
        },
        "85086a2189624983a0d6ea20a384e430": {
          "model_module": "@jupyter-widgets/controls",
          "model_name": "ProgressStyleModel",
          "model_module_version": "1.5.0",
          "state": {
            "_view_name": "StyleView",
            "_model_name": "ProgressStyleModel",
            "description_width": "",
            "_view_module": "@jupyter-widgets/base",
            "_model_module_version": "1.5.0",
            "_view_count": null,
            "_view_module_version": "1.2.0",
            "bar_color": null,
            "_model_module": "@jupyter-widgets/controls"
          }
        },
        "617adcf94c084123917b3d12b9bf0999": {
          "model_module": "@jupyter-widgets/base",
          "model_name": "LayoutModel",
          "model_module_version": "1.2.0",
          "state": {
            "_view_name": "LayoutView",
            "grid_template_rows": null,
            "right": null,
            "justify_content": null,
            "_view_module": "@jupyter-widgets/base",
            "overflow": null,
            "_model_module_version": "1.2.0",
            "_view_count": null,
            "flex_flow": null,
            "width": null,
            "min_width": null,
            "border": null,
            "align_items": null,
            "bottom": null,
            "_model_module": "@jupyter-widgets/base",
            "top": null,
            "grid_column": null,
            "overflow_y": null,
            "overflow_x": null,
            "grid_auto_flow": null,
            "grid_area": null,
            "grid_template_columns": null,
            "flex": null,
            "_model_name": "LayoutModel",
            "justify_items": null,
            "grid_row": null,
            "max_height": null,
            "align_content": null,
            "visibility": null,
            "align_self": null,
            "height": null,
            "min_height": null,
            "padding": null,
            "grid_auto_rows": null,
            "grid_gap": null,
            "max_width": null,
            "order": null,
            "_view_module_version": "1.2.0",
            "grid_template_areas": null,
            "object_position": null,
            "object_fit": null,
            "grid_auto_columns": null,
            "margin": null,
            "display": null,
            "left": null
          }
        },
        "3a24bf5bc3894910b9825b512d796735": {
          "model_module": "@jupyter-widgets/controls",
          "model_name": "DescriptionStyleModel",
          "model_module_version": "1.5.0",
          "state": {
            "_view_name": "StyleView",
            "_model_name": "DescriptionStyleModel",
            "description_width": "",
            "_view_module": "@jupyter-widgets/base",
            "_model_module_version": "1.5.0",
            "_view_count": null,
            "_view_module_version": "1.2.0",
            "_model_module": "@jupyter-widgets/controls"
          }
        },
        "08973f76f53c492a82c410de60f15065": {
          "model_module": "@jupyter-widgets/base",
          "model_name": "LayoutModel",
          "model_module_version": "1.2.0",
          "state": {
            "_view_name": "LayoutView",
            "grid_template_rows": null,
            "right": null,
            "justify_content": null,
            "_view_module": "@jupyter-widgets/base",
            "overflow": null,
            "_model_module_version": "1.2.0",
            "_view_count": null,
            "flex_flow": null,
            "width": null,
            "min_width": null,
            "border": null,
            "align_items": null,
            "bottom": null,
            "_model_module": "@jupyter-widgets/base",
            "top": null,
            "grid_column": null,
            "overflow_y": null,
            "overflow_x": null,
            "grid_auto_flow": null,
            "grid_area": null,
            "grid_template_columns": null,
            "flex": null,
            "_model_name": "LayoutModel",
            "justify_items": null,
            "grid_row": null,
            "max_height": null,
            "align_content": null,
            "visibility": null,
            "align_self": null,
            "height": null,
            "min_height": null,
            "padding": null,
            "grid_auto_rows": null,
            "grid_gap": null,
            "max_width": null,
            "order": null,
            "_view_module_version": "1.2.0",
            "grid_template_areas": null,
            "object_position": null,
            "object_fit": null,
            "grid_auto_columns": null,
            "margin": null,
            "display": null,
            "left": null
          }
        }
      }
    }
  },
  "cells": [
    {
      "cell_type": "markdown",
      "metadata": {
        "id": "view-in-github",
        "colab_type": "text"
      },
      "source": [
        "<a href=\"https://colab.research.google.com/github/Stelath/pytorch-learning/blob/main/Pytorch_Learning_5.ipynb\" target=\"_parent\"><img src=\"https://colab.research.google.com/assets/colab-badge.svg\" alt=\"Open In Colab\"/></a>"
      ]
    },
    {
      "cell_type": "markdown",
      "metadata": {
        "id": "2wt1-dxsr8mp"
      },
      "source": [
        "Get Dataset"
      ]
    },
    {
      "cell_type": "code",
      "metadata": {
        "id": "oYT7c-WToLV3",
        "colab": {
          "base_uri": "https://localhost:8080/"
        },
        "outputId": "c579a6d0-c46f-499e-9330-af2c141a7557"
      },
      "source": [
        "!wget https://download.microsoft.com/download/3/E/1/3E1C3F21-ECDB-4869-8368-6DEBA77B919F/kagglecatsanddogs_3367a.zip"
      ],
      "execution_count": null,
      "outputs": [
        {
          "output_type": "stream",
          "name": "stdout",
          "text": [
            "--2021-12-03 00:16:57--  https://download.microsoft.com/download/3/E/1/3E1C3F21-ECDB-4869-8368-6DEBA77B919F/kagglecatsanddogs_3367a.zip\n",
            "Resolving download.microsoft.com (download.microsoft.com)... 104.73.0.105, 2600:1409:9800:686::e59, 2600:1409:9800:693::e59\n",
            "Connecting to download.microsoft.com (download.microsoft.com)|104.73.0.105|:443... connected.\n",
            "HTTP request sent, awaiting response... 200 OK\n",
            "Length: 824894548 (787M) [application/octet-stream]\n",
            "Saving to: ‘kagglecatsanddogs_3367a.zip.3’\n",
            "\n",
            "kagglecatsanddogs_3 100%[===================>] 786.68M   167MB/s    in 4.7s    \n",
            "\n",
            "2021-12-03 00:17:02 (167 MB/s) - ‘kagglecatsanddogs_3367a.zip.3’ saved [824894548/824894548]\n",
            "\n"
          ]
        }
      ]
    },
    {
      "cell_type": "code",
      "metadata": {
        "id": "A6ODwaTWrzbE",
        "colab": {
          "base_uri": "https://localhost:8080/"
        },
        "outputId": "19ff2f5e-7f77-4499-89ab-e0ac4924e595"
      },
      "source": [
        "!unzip kagglecatsanddogs_3367a.zip"
      ],
      "execution_count": null,
      "outputs": [
        {
          "output_type": "stream",
          "name": "stdout",
          "text": [
            "Archive:  kagglecatsanddogs_3367a.zip\n",
            "replace PetImages/Cat/0.jpg? [y]es, [n]o, [A]ll, [N]one, [r]ename: "
          ]
        }
      ]
    },
    {
      "cell_type": "markdown",
      "metadata": {
        "id": "wsqXtNMpsEDR"
      },
      "source": [
        "Import Librarys"
      ]
    },
    {
      "cell_type": "code",
      "metadata": {
        "id": "ItjpuQlZsCMx"
      },
      "source": [
        "import os\n",
        "import cv2\n",
        "import numpy as np\n",
        "from tqdm import tqdm"
      ],
      "execution_count": null,
      "outputs": []
    },
    {
      "cell_type": "markdown",
      "metadata": {
        "id": "exSxcm9Cs_ET"
      },
      "source": [
        "Import Dataset"
      ]
    },
    {
      "cell_type": "code",
      "metadata": {
        "id": "xjW6ySjYs-YI"
      },
      "source": [
        "REBUILD_DATA = False\n",
        "\n",
        "class DogsVSCats():\n",
        "  IMG_SIZE = 50\n",
        "  CATS = 'PetImages/Cat'\n",
        "  DOGS = 'PetImages/Dog'\n",
        "  LABELS = {CATS: 0, DOGS: 1}\n",
        "  training_data = []\n",
        "  cat_count = 0\n",
        "  dog_count = 0\n",
        "\n",
        "  def make_training_data(self):\n",
        "    for label in self.LABELS:\n",
        "      print(label)\n",
        "      for f in tqdm(os.listdir(label)):\n",
        "        try:\n",
        "          path = os.path.join(label, f)\n",
        "          img = cv2.imread(path, cv2.IMREAD_GRAYSCALE)\n",
        "          img = cv2.resize(img, (self.IMG_SIZE, self.IMG_SIZE))\n",
        "          self.training_data.append([np.array(img), np.eye(2)[self.LABELS[label]]])\n",
        "\n",
        "          if label == self.CATS:\n",
        "            self.cat_count += 1\n",
        "          elif label == self.DOGS:\n",
        "            self.dog_count += 1\n",
        "        except Exception as e:\n",
        "          pass\n",
        "          # print(str(e))\n",
        "    \n",
        "    np.random.shuffle(self.training_data)\n",
        "    np.save('training_data.npy', self.training_data)\n",
        "    print()\n",
        "    print('Cats:', self.cat_count)\n",
        "    print('Dogs:', self.dog_count)\n",
        "\n",
        "if REBUILD_DATA:\n",
        "  dogvcats = DogsVSCats()\n",
        "  dogvcats.make_training_data()\n"
      ],
      "execution_count": null,
      "outputs": []
    },
    {
      "cell_type": "code",
      "metadata": {
        "colab": {
          "base_uri": "https://localhost:8080/"
        },
        "id": "TRljgL0k5-Bj",
        "outputId": "2f19b34b-f2e7-44c0-8f52-d16606183912"
      },
      "source": [
        "training_data = np.load('training_data.npy', allow_pickle=True)\n",
        "print(len(training_data))\n",
        "print(training_data[0])"
      ],
      "execution_count": null,
      "outputs": [
        {
          "output_type": "stream",
          "name": "stdout",
          "text": [
            "24946\n",
            "[array([[ 37,  80, 102, ..., 119, 119, 129],\n",
            "       [ 64,  94, 102, ..., 102, 113, 123],\n",
            "       [ 64,  71,  71, ..., 103, 106, 124],\n",
            "       ...,\n",
            "       [114, 111, 112, ..., 149, 167, 170],\n",
            "       [116, 114, 112, ..., 160, 166, 171],\n",
            "       [117, 121, 118, ..., 168, 157, 162]], dtype=uint8)\n",
            " array([0., 1.])]\n"
          ]
        }
      ]
    },
    {
      "cell_type": "code",
      "metadata": {
        "colab": {
          "base_uri": "https://localhost:8080/",
          "height": 267
        },
        "id": "96zgN4Tu9sLE",
        "outputId": "73c11101-f2d8-4121-d9ec-216650674e4a"
      },
      "source": [
        "import matplotlib.pyplot as plt\n",
        "\n",
        "plt.imshow(training_data[1][0], cmap='gray')\n",
        "plt.show()"
      ],
      "execution_count": null,
      "outputs": [
        {
          "output_type": "display_data",
          "data": {
            "image/png": "[encoded data removed]",
            "text/plain": [
              "<Figure size 432x288 with 1 Axes>"
            ]
          },
          "metadata": {
            "needs_background": "light"
          }
        }
      ]
    },
    {
      "cell_type": "code",
      "metadata": {
        "colab": {
          "base_uri": "https://localhost:8080/"
        },
        "id": "G_fHBmlk9z27",
        "outputId": "ac964d76-0381-4171-f0c3-a5b946b541db"
      },
      "source": [
        "training_data[1][1]"
      ],
      "execution_count": null,
      "outputs": [
        {
          "output_type": "execute_result",
          "data": {
            "text/plain": [
              "array([1., 0.])"
            ]
          },
          "metadata": {},
          "execution_count": 7
        }
      ]
    },
    {
      "cell_type": "markdown",
      "metadata": {
        "id": "HqE6ePQ5_bkr"
      },
      "source": [
        "Build Model"
      ]
    },
    {
      "cell_type": "code",
      "metadata": {
        "id": "rzAGDyfO_ar1"
      },
      "source": [
        "import torch\n",
        "import torch.nn as nn\n",
        "import torch.nn.functional as F\n",
        "\n",
        "class Net(nn.Module):\n",
        "  def __init__(self):\n",
        "    super().__init__()\n",
        "    self.conv1 = nn.Conv2d(1, 32, 5)\n",
        "    self.conv2 = nn.Conv2d(32, 64, 5)\n",
        "    self.conv3 = nn.Conv2d(64, 128, 5)\n",
        "\n",
        "    x = torch.randn(50, 50).view(-1, 1, 50, 50)\n",
        "    self._to_linear = None\n",
        "    self.convs(x)\n",
        "\n",
        "    self.fc1 = nn.Linear(self._to_linear, 512)\n",
        "    self.fc2 = nn.Linear(512, 2)\n",
        "\n",
        "  def convs(self, x):\n",
        "    x = F.max_pool2d(F.relu(self.conv1(x)), (2, 2))\n",
        "    x = F.max_pool2d(F.relu(self.conv2(x)), (2, 2))\n",
        "    x = F.max_pool2d(F.relu(self.conv3(x)), (2, 2))\n",
        "    \n",
        "    if self._to_linear is None:\n",
        "      self._to_linear = x[0].shape[0] * x[0].shape[1] * x[0].shape[2]\n",
        "    \n",
        "    return x\n",
        "\n",
        "  def forward(self, x):\n",
        "    x = self.convs(x)\n",
        "    x = x.view(-1, self._to_linear)\n",
        "    x = F.relu(self.fc1(x))\n",
        "    x = self.fc2(x)\n",
        "\n",
        "    # Use activation function cause its probably better\n",
        "    return F.softmax(x, dim = 1)\n",
        "\n",
        "net = Net()"
      ],
      "execution_count": null,
      "outputs": []
    },
    {
      "cell_type": "code",
      "metadata": {
        "id": "CARjWQ2PGYHn",
        "colab": {
          "base_uri": "https://localhost:8080/"
        },
        "outputId": "1cc952d9-a120-418f-bae1-f11cc8010325"
      },
      "source": [
        "import torch.optim as optim\n",
        "\n",
        "optimizer = optim.Adam(net.parameters(), lr=0.001)\n",
        "loss_function = nn.MSELoss()\n",
        "\n",
        "X = torch.Tensor([i[0] for i in training_data]).view(-1, 50, 50)\n",
        "X = X/255.0\n",
        "y = torch.Tensor([i[1] for i in training_data])\n",
        "\n",
        "VAL_PCT = 0.1\n",
        "val_size = int(len(X) * VAL_PCT)\n",
        "print(val_size)"
      ],
      "execution_count": null,
      "outputs": [
        {
          "output_type": "stream",
          "name": "stdout",
          "text": [
            "2494\n"
          ]
        },
        {
          "output_type": "stream",
          "name": "stderr",
          "text": [
            "/usr/local/lib/python3.7/dist-packages/ipykernel_launcher.py:6: UserWarning: Creating a tensor from a list of numpy.ndarrays is extremely slow. Please consider converting the list to a single numpy.ndarray with numpy.array() before converting to a tensor. (Triggered internally at  ../torch/csrc/utils/tensor_new.cpp:201.)\n",
            "  \n"
          ]
        }
      ]
    },
    {
      "cell_type": "code",
      "metadata": {
        "colab": {
          "base_uri": "https://localhost:8080/"
        },
        "id": "0CHV9jO2Kk-G",
        "outputId": "fb2fcc0e-b273-4bee-c7c8-1a79e1fa73f9"
      },
      "source": [
        "train_X = X[:-val_size]\n",
        "train_y = y[:-val_size]\n",
        "\n",
        "test_X = X[-val_size:]\n",
        "test_y = y[-val_size:]\n",
        "\n",
        "print(len(train_X))\n",
        "print(len(test_X))"
      ],
      "execution_count": null,
      "outputs": [
        {
          "output_type": "stream",
          "name": "stdout",
          "text": [
            "22452\n",
            "2494\n"
          ]
        }
      ]
    },
    {
      "cell_type": "code",
      "metadata": {
        "colab": {
          "base_uri": "https://localhost:8080/",
          "height": 66,
          "referenced_widgets": [
            "3be389784df740a8b56d24d9b5066931",
            "66f725b07ab44b59bda36ba9fea5edd7",
            "7fee178d8d164a008b019ed3da1903cb",
            "9a1e6c9843d545a6861e8e617032d73f",
            "54ad13b629174177bcc9dc7ea4484312",
            "ce4f4334ca4a4bf59adacbced4b37d7f",
            "8dea9d51e16a4ae0a9e6bc953942d446",
            "85086a2189624983a0d6ea20a384e430",
            "617adcf94c084123917b3d12b9bf0999",
            "3a24bf5bc3894910b9825b512d796735",
            "08973f76f53c492a82c410de60f15065"
          ]
        },
        "id": "ZwaV-3xgK1dH",
        "outputId": "1cf67d67-1912-4893-9aa3-01e2541fbbb0"
      },
      "source": [
        "BATCH_SIZE = 100\n",
        "EPOCHS = 1\n",
        "\n",
        "for epoch in range(EPOCHS):\n",
        "  for i in tqdm(range(0, len(train_X), BATCH_SIZE)):\n",
        "    batch_X = train_X[i:i + BATCH_SIZE].view(-1, 1, 50, 50)\n",
        "    batch_y = train_y[i:i + BATCH_SIZE]\n",
        "\n",
        "    net.zero_grad()\n",
        "    outputs = net(batch_X)\n",
        "    loss = loss_function(outputs, batch_y)\n",
        "    loss.backward()\n",
        "    optimizer.step()\n",
        "\n",
        "print(loss)\n",
        "    "
      ],
      "execution_count": null,
      "outputs": [
        {
          "output_type": "display_data",
          "data": {
            "application/vnd.jupyter.widget-view+json": {
              "model_id": "3be389784df740a8b56d24d9b5066931",
              "version_minor": 0,
              "version_major": 2
            },
            "text/plain": [
              "  0%|          | 0/225 [00:00<?, ?it/s]"
            ]
          },
          "metadata": {}
        },
        {
          "output_type": "stream",
          "name": "stdout",
          "text": [
            "tensor(0.2113, grad_fn=<MseLossBackward0>)\n"
          ]
        }
      ]
    },
    {
      "cell_type": "code",
      "metadata": {
        "id": "TiYt7RyJLckl",
        "colab": {
          "base_uri": "https://localhost:8080/"
        },
        "outputId": "de5ba12f-aaaf-4fc3-de01-4e2156b18e14"
      },
      "source": [
        "correct = 0\n",
        "total = 0\n",
        "\n",
        "with torch.no_grad():\n",
        "  for i in tqdm(range(len(test_X))):\n",
        "    real_class = torch.argmax(test_y[i])\n",
        "    net_out = net(test_X[i].view(-1, 1, 50, 50))[0]\n",
        "    predicted_class = torch.argmax(net_out)\n",
        "    if predicted_class == real_class:\n",
        "      correct += 1\n",
        "    total += 1\n",
        "\n",
        "print()\n",
        "print('Accuracy:', round(correct / total, 3))"
      ],
      "execution_count": null,
      "outputs": [
        {
          "output_type": "stream",
          "name": "stderr",
          "text": [
            "100%|██████████| 2494/2494 [00:07<00:00, 328.07it/s]"
          ]
        },
        {
          "output_type": "stream",
          "name": "stdout",
          "text": [
            "\n",
            "Accuracy: 0.63\n"
          ]
        },
        {
          "output_type": "stream",
          "name": "stderr",
          "text": [
            "\n"
          ]
        }
      ]
    }
  ]
}