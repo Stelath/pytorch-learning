{
  "nbformat": 4,
  "nbformat_minor": 0,
  "metadata": {
    "colab": {
      "name": "Pytorch Learning 8 Model Analysis.ipynb",
      "provenance": [],
      "authorship_tag": "ABX9TyP9f7yth+OlDtLv7XFmeI9t",
      "include_colab_link": true
    },
    "kernelspec": {
      "name": "python3",
      "display_name": "Python 3"
    },
    "language_info": {
      "name": "python"
    }
  },
  "cells": [
    {
      "cell_type": "markdown",
      "metadata": {
        "id": "view-in-github",
        "colab_type": "text"
      },
      "source": [
        "<a href=\"https://colab.research.google.com/github/Stelath/pytorch-learning/blob/main/Pytorch_Learning_8_Model_Analysis.ipynb\" target=\"_parent\"><img src=\"https://colab.research.google.com/assets/colab-badge.svg\" alt=\"Open In Colab\"/></a>"
      ]
    },
    {
      "cell_type": "markdown",
      "metadata": {
        "id": "2wt1-dxsr8mp"
      },
      "source": [
        "Get Dataset"
      ]
    },
    {
      "cell_type": "code",
      "metadata": {
        "id": "oYT7c-WToLV3"
      },
      "source": [
        "!wget -q https://download.microsoft.com/download/3/E/1/3E1C3F21-ECDB-4869-8368-6DEBA77B919F/kagglecatsanddogs_3367a.zip\n",
        "!unzip -q kagglecatsanddogs_3367a.zip"
      ],
      "execution_count": null,
      "outputs": []
    },
    {
      "cell_type": "markdown",
      "metadata": {
        "id": "wsqXtNMpsEDR"
      },
      "source": [
        "Import Librarys"
      ]
    },
    {
      "cell_type": "code",
      "metadata": {
        "id": "ItjpuQlZsCMx"
      },
      "source": [
        "import os\n",
        "import cv2\n",
        "import numpy as np\n",
        "from tqdm import tqdm"
      ],
      "execution_count": null,
      "outputs": []
    },
    {
      "cell_type": "markdown",
      "metadata": {
        "id": "exSxcm9Cs_ET"
      },
      "source": [
        "Import Dataset"
      ]
    },
    {
      "cell_type": "code",
      "metadata": {
        "id": "xjW6ySjYs-YI",
        "colab": {
          "base_uri": "https://localhost:8080/"
        },
        "outputId": "59c6cb27-7c21-4cac-9d4b-f5d9219c8f81"
      },
      "source": [
        "REBUILD_DATA = True\n",
        "\n",
        "class DogsVSCats():\n",
        "  IMG_SIZE = 50\n",
        "  CATS = 'PetImages/Cat'\n",
        "  DOGS = 'PetImages/Dog'\n",
        "  LABELS = {CATS: 0, DOGS: 1}\n",
        "  training_data = []\n",
        "  cat_count = 0\n",
        "  dog_count = 0\n",
        "\n",
        "  def make_training_data(self):\n",
        "    for label in self.LABELS:\n",
        "      print(label)\n",
        "      for f in tqdm(os.listdir(label)):\n",
        "        try:\n",
        "          path = os.path.join(label, f)\n",
        "          img = cv2.imread(path, cv2.IMREAD_GRAYSCALE)\n",
        "          img = cv2.resize(img, (self.IMG_SIZE, self.IMG_SIZE))\n",
        "          self.training_data.append([np.array(img), np.eye(2)[self.LABELS[label]]])\n",
        "\n",
        "          if label == self.CATS:\n",
        "            self.cat_count += 1\n",
        "          elif label == self.DOGS:\n",
        "            self.dog_count += 1\n",
        "        except Exception as e:\n",
        "          pass\n",
        "          # print(str(e))\n",
        "    \n",
        "    np.random.shuffle(self.training_data)\n",
        "    np.save('training_data.npy', self.training_data)\n",
        "    print()\n",
        "    print('Cats:', self.cat_count)\n",
        "    print('Dogs:', self.dog_count)\n",
        "\n",
        "if REBUILD_DATA:\n",
        "  dogvcats = DogsVSCats()\n",
        "  dogvcats.make_training_data()\n"
      ],
      "execution_count": null,
      "outputs": [
        {
          "output_type": "stream",
          "name": "stdout",
          "text": [
            "PetImages/Cat\n"
          ]
        },
        {
          "output_type": "stream",
          "name": "stderr",
          "text": [
            "100%|██████████| 12501/12501 [00:15<00:00, 830.88it/s]\n"
          ]
        },
        {
          "output_type": "stream",
          "name": "stdout",
          "text": [
            "PetImages/Dog\n"
          ]
        },
        {
          "output_type": "stream",
          "name": "stderr",
          "text": [
            "100%|██████████| 12501/12501 [00:15<00:00, 794.64it/s]\n",
            "/usr/local/lib/python3.7/dist-packages/numpy/core/_asarray.py:136: VisibleDeprecationWarning: Creating an ndarray from ragged nested sequences (which is a list-or-tuple of lists-or-tuples-or ndarrays with different lengths or shapes) is deprecated. If you meant to do this, you must specify 'dtype=object' when creating the ndarray\n",
            "  return array(a, dtype, copy=False, order=order, subok=True)\n"
          ]
        },
        {
          "output_type": "stream",
          "name": "stdout",
          "text": [
            "\n",
            "Cats: 12476\n",
            "Dogs: 12470\n"
          ]
        }
      ]
    },
    {
      "cell_type": "code",
      "metadata": {
        "colab": {
          "base_uri": "https://localhost:8080/"
        },
        "id": "TRljgL0k5-Bj",
        "outputId": "2ffcf307-d148-493d-eb4e-a968859a50f3"
      },
      "source": [
        "training_data = np.load('training_data.npy', allow_pickle=True)\n",
        "print(len(training_data))\n",
        "print(training_data[0])"
      ],
      "execution_count": null,
      "outputs": [
        {
          "output_type": "stream",
          "name": "stdout",
          "text": [
            "24946\n",
            "[array([[25, 25, 25, ...,  1, 13, 16],\n",
            "       [25, 25, 25, ..., 10, 11,  2],\n",
            "       [25, 25, 25, ...,  8, 23,  4],\n",
            "       ...,\n",
            "       [19, 20, 22, ..., 15, 16, 16],\n",
            "       [22, 22, 22, ..., 17, 13, 14],\n",
            "       [20, 23, 22, ..., 17, 16, 16]], dtype=uint8)\n",
            " array([1., 0.])]\n"
          ]
        }
      ]
    },
    {
      "cell_type": "code",
      "metadata": {
        "colab": {
          "base_uri": "https://localhost:8080/",
          "height": 267
        },
        "id": "96zgN4Tu9sLE",
        "outputId": "24c2a6e3-7c5e-4570-f883-b1936b598c70"
      },
      "source": [
        "import matplotlib.pyplot as plt\n",
        "\n",
        "plt.imshow(training_data[2][0], cmap='gray')\n",
        "plt.show()"
      ],
      "execution_count": null,
      "outputs": [
        {
          "output_type": "display_data",
          "data": {
            "image/png": "[encoded data removed]",
            "text/plain": [
              "<Figure size 432x288 with 1 Axes>"
            ]
          },
          "metadata": {
            "needs_background": "light"
          }
        }
      ]
    },
    {
      "cell_type": "code",
      "metadata": {
        "colab": {
          "base_uri": "https://localhost:8080/"
        },
        "id": "G_fHBmlk9z27",
        "outputId": "52230b14-d870-4ccc-ee3a-17eb4346f105"
      },
      "source": [
        "training_data[2][1]"
      ],
      "execution_count": null,
      "outputs": [
        {
          "output_type": "execute_result",
          "data": {
            "text/plain": [
              "array([1., 0.])"
            ]
          },
          "metadata": {},
          "execution_count": 7
        }
      ]
    },
    {
      "cell_type": "markdown",
      "metadata": {
        "id": "HqE6ePQ5_bkr"
      },
      "source": [
        "Build Model"
      ]
    },
    {
      "cell_type": "code",
      "metadata": {
        "id": "rzAGDyfO_ar1"
      },
      "source": [
        "import torch\n",
        "import torch.nn as nn\n",
        "import torch.nn.functional as F\n",
        "\n",
        "class Net(nn.Module):\n",
        "  def __init__(self):\n",
        "    super().__init__()\n",
        "    self.conv1 = nn.Conv2d(1, 32, 5)\n",
        "    self.conv2 = nn.Conv2d(32, 64, 5)\n",
        "    self.conv3 = nn.Conv2d(64, 128, 5)\n",
        "\n",
        "    x = torch.randn(50, 50).view(-1, 1, 50, 50)\n",
        "    self._to_linear = None\n",
        "    self.convs(x)\n",
        "\n",
        "    self.fc1 = nn.Linear(self._to_linear, 512)\n",
        "    self.fc2 = nn.Linear(512, 2)\n",
        "\n",
        "  def convs(self, x):\n",
        "    x = F.max_pool2d(F.relu(self.conv1(x)), (2, 2))\n",
        "    x = F.max_pool2d(F.relu(self.conv2(x)), (2, 2))\n",
        "    x = F.max_pool2d(F.relu(self.conv3(x)), (2, 2))\n",
        "    \n",
        "    if self._to_linear is None:\n",
        "      self._to_linear = x[0].shape[0] * x[0].shape[1] * x[0].shape[2]\n",
        "    \n",
        "    return x\n",
        "\n",
        "  def forward(self, x):\n",
        "    x = self.convs(x)\n",
        "    x = x.view(-1, self._to_linear)\n",
        "    x = F.relu(self.fc1(x))\n",
        "    x = self.fc2(x)\n",
        "\n",
        "    # Use activation function cause its probably better\n",
        "    return F.softmax(x, dim = 1)\n"
      ],
      "execution_count": null,
      "outputs": []
    },
    {
      "cell_type": "markdown",
      "metadata": {
        "id": "osr147kmRj0t"
      },
      "source": [
        "CUDA"
      ]
    },
    {
      "cell_type": "code",
      "metadata": {
        "id": "94FwKHM7RT1y",
        "colab": {
          "base_uri": "https://localhost:8080/"
        },
        "outputId": "dba0780b-486a-4e72-f381-82251900c876"
      },
      "source": [
        "print('CUDA Available:', torch.cuda.is_available())\n",
        "\n",
        "if torch.cuda.is_available():\n",
        "  device = torch.device('cuda:0')\n",
        "  print('Running on the GPU')\n",
        "else:\n",
        "  device = torch.device('cpu')\n",
        "  print('Running on the CPU')\n",
        "\n",
        "# Create the neural net\n",
        "net = Net().to(device)"
      ],
      "execution_count": null,
      "outputs": [
        {
          "output_type": "stream",
          "name": "stdout",
          "text": [
            "CUDA Available: True\n",
            "Running on the GPU\n"
          ]
        }
      ]
    },
    {
      "cell_type": "markdown",
      "metadata": {
        "id": "85xuSL_jRl4r"
      },
      "source": [
        "Optimization"
      ]
    },
    {
      "cell_type": "code",
      "metadata": {
        "id": "CARjWQ2PGYHn"
      },
      "source": [
        "import torch.optim as optim\n",
        "\n",
        "optimizer = optim.Adam(net.parameters(), lr=0.001)\n",
        "loss_function = nn.MSELoss()"
      ],
      "execution_count": null,
      "outputs": []
    },
    {
      "cell_type": "markdown",
      "metadata": {
        "id": "YYOv0nYARYUw"
      },
      "source": [
        "### Training & Testing"
      ]
    },
    {
      "cell_type": "code",
      "metadata": {
        "id": "0CHV9jO2Kk-G",
        "colab": {
          "base_uri": "https://localhost:8080/"
        },
        "outputId": "493544d0-fdce-466d-8cf7-faafcb4c1cb2"
      },
      "source": [
        "X = torch.Tensor([i[0] for i in training_data]).view(-1, 50, 50)\n",
        "X = X/255.0 # Scale imagery so pixle values are between 0 and 1 not 0 and 255\n",
        "y = torch.Tensor([i[1] for i in training_data])\n",
        "\n",
        "VAL_PCT = 0.1\n",
        "val_size = int(len(X) * VAL_PCT)\n",
        "print(val_size)\n",
        "\n",
        "train_X = X[:-val_size]\n",
        "train_y = y[:-val_size]\n",
        "\n",
        "test_X = X[-val_size:]\n",
        "test_y = y[-val_size:]\n",
        "\n",
        "print(len(train_X))\n",
        "print(len(test_X))"
      ],
      "execution_count": null,
      "outputs": [
        {
          "output_type": "stream",
          "name": "stdout",
          "text": [
            "2494\n",
            "22452\n",
            "2494\n"
          ]
        },
        {
          "output_type": "stream",
          "name": "stderr",
          "text": [
            "/usr/local/lib/python3.7/dist-packages/ipykernel_launcher.py:1: UserWarning: Creating a tensor from a list of numpy.ndarrays is extremely slow. Please consider converting the list to a single numpy.ndarray with numpy.array() before converting to a tensor. (Triggered internally at  ../torch/csrc/utils/tensor_new.cpp:201.)\n",
            "  \"\"\"Entry point for launching an IPython kernel.\n"
          ]
        }
      ]
    },
    {
      "cell_type": "code",
      "metadata": {
        "id": "POC95OLp1cmB"
      },
      "source": [
        "# Set train default to false so that you don't accidentally train on your validation data\n",
        "# IE. your gonna notice way faster if your model isnt training than if you accidentally passed eval data\n",
        "def fwd_pass(X, y, train=False):\n",
        "  X = X.to(device)\n",
        "  y = y.to(device)\n",
        "\n",
        "  if train:\n",
        "    net.zero_grad()\n",
        "  outputs = net(X)\n",
        "  matches = [torch.argmax(i) == torch.argmax(j) for i, j in zip(outputs, y)]\n",
        "  acc = matches.count(True) / len(matches)\n",
        "  loss = loss_function(outputs, y)\n",
        "\n",
        "  if train:\n",
        "    loss.backward()\n",
        "    optimizer.step()\n",
        "  \n",
        "  return acc, loss\n"
      ],
      "execution_count": null,
      "outputs": []
    },
    {
      "cell_type": "code",
      "metadata": {
        "id": "TiYt7RyJLckl"
      },
      "source": [
        "def test(size=32):\n",
        "  random_start = np.random.randint(len(test_X) - size)\n",
        "  X, y = test_X[random_start:random_start + size], test_y[random_start:random_start + size] # Not sure about this, might be better to shuffle the array\n",
        "  with torch.no_grad():\n",
        "    val_acc, val_loss = fwd_pass(X.view(-1, 1, 50, 50), y)\n",
        "  return val_acc, val_loss\n"
      ],
      "execution_count": null,
      "outputs": []
    },
    {
      "cell_type": "code",
      "metadata": {
        "id": "s196UMZ-850R"
      },
      "source": [
        "import time\n",
        "\n",
        "MODEL_NAME = f'model-{int(time.time())}'\n",
        "net = Net().to(device)\n",
        "\n",
        "optimizer = optim.Adam(net.parameters(), lr=0.001)\n",
        "loss_function = nn.MSELoss()\n",
        "\n",
        "def train(EPOCHS=8, BATCH_SIZE=64):\n",
        "  with open('model.log', 'a') as f:\n",
        "    for epoch in range(EPOCHS):\n",
        "      for i in tqdm(range(0, len(train_X), BATCH_SIZE)):\n",
        "        batch_X = train_X[i:i + BATCH_SIZE].view(-1, 1, 50, 50).to(device)\n",
        "        batch_y = train_y[i:i + BATCH_SIZE].to(device)\n",
        "\n",
        "        acc, loss = fwd_pass(batch_X, batch_y, train=True)\n",
        "        if i % BATCH_SIZE == 0: # Every 64 steps calculate the accuracy\n",
        "          val_acc, val_loss = test(size=32)\n",
        "          f.write(f'{MODEL_NAME}, {round(time.time(), 3)}, {round(float(acc), 2)}, {round(float(loss), 4)}, {round(float(val_acc), 2)}, {round(float(val_loss), 4)}\\n')"
      ],
      "execution_count": null,
      "outputs": []
    },
    {
      "cell_type": "markdown",
      "metadata": {
        "id": "TO9LNOMW9ris"
      },
      "source": [
        "Training Model"
      ]
    },
    {
      "cell_type": "code",
      "metadata": {
        "colab": {
          "base_uri": "https://localhost:8080/"
        },
        "id": "4txF9NbLFTs2",
        "outputId": "dfc78ebf-8ca0-4616-f5ef-7c04ecd85282"
      },
      "source": [
        "train(EPOCHS=20)"
      ],
      "execution_count": null,
      "outputs": [
        {
          "output_type": "stream",
          "name": "stderr",
          "text": [
            "100%|██████████| 351/351 [00:08<00:00, 41.49it/s]\n",
            "100%|██████████| 351/351 [00:08<00:00, 41.85it/s]\n",
            "100%|██████████| 351/351 [00:08<00:00, 42.11it/s]\n",
            "100%|██████████| 351/351 [00:08<00:00, 41.88it/s]\n",
            "100%|██████████| 351/351 [00:08<00:00, 41.74it/s]\n",
            "100%|██████████| 351/351 [00:08<00:00, 41.98it/s]\n",
            "100%|██████████| 351/351 [00:08<00:00, 41.75it/s]\n",
            "100%|██████████| 351/351 [00:08<00:00, 41.84it/s]\n",
            "100%|██████████| 351/351 [00:08<00:00, 41.75it/s]\n",
            "100%|██████████| 351/351 [00:08<00:00, 41.85it/s]\n",
            "100%|██████████| 351/351 [00:08<00:00, 41.83it/s]\n",
            "100%|██████████| 351/351 [00:08<00:00, 41.99it/s]\n",
            "100%|██████████| 351/351 [00:08<00:00, 41.84it/s]\n",
            "100%|██████████| 351/351 [00:08<00:00, 41.80it/s]\n",
            "100%|██████████| 351/351 [00:08<00:00, 41.94it/s]\n",
            "100%|██████████| 351/351 [00:08<00:00, 41.94it/s]\n",
            "100%|██████████| 351/351 [00:08<00:00, 41.81it/s]\n",
            "100%|██████████| 351/351 [00:08<00:00, 41.92it/s]\n",
            "100%|██████████| 351/351 [00:08<00:00, 41.97it/s]\n",
            "100%|██████████| 351/351 [00:08<00:00, 42.37it/s]\n"
          ]
        }
      ]
    },
    {
      "cell_type": "markdown",
      "metadata": {
        "id": "smb35tzH84Ld"
      },
      "source": [
        "Test & Eval Model"
      ]
    },
    {
      "cell_type": "code",
      "metadata": {
        "id": "KFegjH39Xy5b",
        "colab": {
          "base_uri": "https://localhost:8080/"
        },
        "outputId": "191bde83-3200-48db-df22-07b49f1892a0"
      },
      "source": [
        "val_acc, val_loss = test(size=512)\n",
        "print(f'Validation Accuracy: {val_acc}\\nValidation Loss: {val_loss}')"
      ],
      "execution_count": null,
      "outputs": [
        {
          "output_type": "stream",
          "name": "stdout",
          "text": [
            "Validation Accuracy: 0.732421875\n",
            "Validation Loss: 0.21960507333278656\n"
          ]
        }
      ]
    }
  ]
}