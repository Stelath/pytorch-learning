{
  "nbformat": 4,
  "nbformat_minor": 0,
  "metadata": {
    "colab": {
      "name": "Pytorch Learning 1.ipynb",
      "provenance": [],
      "toc_visible": true,
      "authorship_tag": "ABX9TyOsN84pbV0sQcjH8SIfFJOB",
      "include_colab_link": true
    },
    "kernelspec": {
      "name": "python3",
      "display_name": "Python 3"
    },
    "language_info": {
      "name": "python"
    }
  },
  "cells": [
    {
      "cell_type": "markdown",
      "metadata": {
        "id": "view-in-github",
        "colab_type": "text"
      },
      "source": [
        "<a href=\"https://colab.research.google.com/github/Stelath/pytorch-learning/blob/main/Pytorch_Learning_1.ipynb\" target=\"_parent\"><img src=\"https://colab.research.google.com/assets/colab-badge.svg\" alt=\"Open In Colab\"/></a>"
      ]
    },
    {
      "cell_type": "code",
      "metadata": {
        "colab": {
          "base_uri": "https://localhost:8080/"
        },
        "id": "yVFvAGOAgvzY",
        "outputId": "dd9f569b-9c8f-4a82-9d60-63f1318d8912"
      },
      "source": [
        "import torch\n",
        "\n",
        "x = torch.Tensor([5,3])\n",
        "y = torch.Tensor([2,1])\n",
        "\n",
        "print(x*y)"
      ],
      "execution_count": null,
      "outputs": [
        {
          "output_type": "stream",
          "name": "stdout",
          "text": [
            "tensor([10.,  3.])\n"
          ]
        }
      ]
    },
    {
      "cell_type": "code",
      "metadata": {
        "colab": {
          "base_uri": "https://localhost:8080/"
        },
        "id": "C3Tk9H7mjGFA",
        "outputId": "87467b3b-fec0-4fd8-cc20-036a8b52b67f"
      },
      "source": [
        "x =  torch.zeros([2,5])\n",
        "print(x)"
      ],
      "execution_count": null,
      "outputs": [
        {
          "output_type": "stream",
          "name": "stdout",
          "text": [
            "tensor([[0., 0., 0., 0., 0.],\n",
            "        [0., 0., 0., 0., 0.]])\n"
          ]
        }
      ]
    },
    {
      "cell_type": "code",
      "metadata": {
        "id": "0kAqegdwjLpP",
        "colab": {
          "base_uri": "https://localhost:8080/"
        },
        "outputId": "959c1758-c4d8-48a9-a40e-b5b66d959782"
      },
      "source": [
        "y = torch.rand(5, 3)\n",
        "print(y)"
      ],
      "execution_count": null,
      "outputs": [
        {
          "output_type": "stream",
          "name": "stdout",
          "text": [
            "tensor([[7.9588e-02, 2.1696e-05, 7.3089e-01],\n",
            "        [6.4548e-01, 1.4930e-01, 8.3079e-01],\n",
            "        [8.8435e-01, 2.6870e-01, 8.1636e-02],\n",
            "        [6.2235e-01, 3.0117e-01, 3.3232e-01],\n",
            "        [5.8596e-01, 7.7676e-01, 7.2942e-01]])\n"
          ]
        }
      ]
    },
    {
      "cell_type": "code",
      "metadata": {
        "id": "dZrshV0EjPf2",
        "colab": {
          "base_uri": "https://localhost:8080/"
        },
        "outputId": "a8a4c6d8-4aa9-4dce-c3c3-15fa00e68458"
      },
      "source": [
        "y = y.view([1, 15])\n",
        "print(y)"
      ],
      "execution_count": null,
      "outputs": [
        {
          "output_type": "stream",
          "name": "stdout",
          "text": [
            "tensor([[7.9588e-02, 2.1696e-05, 7.3089e-01, 6.4548e-01, 1.4930e-01, 8.3079e-01,\n",
            "         8.8435e-01, 2.6870e-01, 8.1636e-02, 6.2235e-01, 3.0117e-01, 3.3232e-01,\n",
            "         5.8596e-01, 7.7676e-01, 7.2942e-01]])\n"
          ]
        }
      ]
    }
  ]
}